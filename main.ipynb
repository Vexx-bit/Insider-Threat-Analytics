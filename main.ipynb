import pandas as pd
import matplotlib.pyplot as plt
import numpy as np

# 1. Prepare the Data
data = {
    'Month': ['07/2019', '08/2019', '09/2019', '10/2019', '11/2019'],
    'Searches': [50, 53, 59, 56, 62],
    'Direct': [39, 47, 42, 51, 51],
    'Social Media': [70, 80, 90, 87, 92]
}
df = pd.DataFrame(data)

# Convert values from thousands to actual numbers for plotting and labels
for col in ['Searches', 'Direct', 'Social Media']:
    df[col] = df[col] * 1000

# 2. Set up the Plot
plt.style.use('default')
fig, ax = plt.subplots(figsize=(10, 6))

# Set bar width and positions
bar_width = 0.25
index = np.arange(len(df['Month']))

# Define colors from the image
colors = {
    'Searches': '#4292c6',  # blue
    'Direct': '#d87693',    # pinkish
    'Social Media': '#ffb000' # yellow/orange
}

# 3. Create the Bars
bars1 = ax.bar(index - bar_width, df['Searches'] / 1000, bar_width, label='Searches', color=colors['Searches'])
bars2 = ax.bar(index, df['Direct'] / 1000, bar_width, label='Direct', color=colors['Direct'])
bars3 = ax.bar(index + bar_width, df['Social Media'] / 1000, bar_width, label='Social Media', color=colors['Social Media'])

# 4. Add labels, title, and customize axes
ax.set_title('Visitors by web traffic sources')
ax.set_xlabel('months')
ax.set_ylabel('visitors\nin thousands', rotation=0, ha='right', va='center')
ax.set_xticks(index)
ax.set_xticklabels(df['Month'])
ax.set_yticks(np.arange(0, 101, 20))
ax.set_ylim(0, 110) # Set a slightly higher limit to accommodate the labels

# Function to add value labels on top of bars
def add_labels(bars):
    for bar in bars:
        height = bar.get_height()
        ax.annotate(f'{height:.0f}',
                    xy=(bar.get_x() + bar.get_width() / 2, height),
                    xytext=(0, 3),  # 3 points vertical offset
                    textcoords='offset points',
                    ha='center', va='bottom')

add_labels(bars1)
add_labels(bars2)
add_labels(bars3)

# Add Legend
ax.legend(loc='lower center', bbox_to_anchor=(0.5, -0.2), ncol=3)

# Remove top and right spines
ax.spines['top'].set_visible(False)
ax.spines['right'].set_visible(False)

# Adjust layout to prevent labels from being cut off
plt.tight_layout(rect=[0, 0.1, 1, 1])

# Display the plot
plt.show()

# To save the plot, uncomment the line below:
# plt.savefig('visitors_by_traffic_source.png', dpi=300, bbox_inches='tight')
